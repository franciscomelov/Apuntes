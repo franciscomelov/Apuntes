{
  "nbformat": 4,
  "nbformat_minor": 0,
  "metadata": {
    "colab": {
      "name": "Untitled0.ipynb",
      "provenance": [],
      "authorship_tag": "ABX9TyPZvVn5n94sWVp1R34iGzA9",
      "include_colab_link": true
    },
    "kernelspec": {
      "name": "python3",
      "display_name": "Python 3"
    },
    "language_info": {
      "name": "python"
    }
  },
  "cells": [
    {
      "cell_type": "markdown",
      "metadata": {
        "id": "view-in-github",
        "colab_type": "text"
      },
      "source": [
        "<a href=\"https://colab.research.google.com/github/franciscomelov/Apuntes/blob/master/Clases.ipynb\" target=\"_parent\"><img src=\"https://colab.research.google.com/assets/colab-badge.svg\" alt=\"Open In Colab\"/></a>"
      ]
    },
    {
      "cell_type": "code",
      "execution_count": null,
      "metadata": {
        "id": "NcmLoRybTiqX"
      },
      "outputs": [],
      "source": [
        ""
      ]
    },
    {
      "cell_type": "markdown",
      "source": [
        "## Que es BigData\n",
        "\n",
        "Datos Grandes \n",
        "Anque no hay un consenso de cuando es big data algubnos dicen que apartir dr un millon de registros\n",
        "\n",
        "Las empresas siempre han tenido datos almacenados\n",
        "Big data se encarga de hacer \"algo con esos datos\" que resuelva un problema de negocio o beneficia algun modelo de negocio\n",
        "\n"
      ],
      "metadata": {
        "id": "zjHRm_BdTjn3"
      }
    },
    {
      "cell_type": "markdown",
      "source": [
        "### Que tipos de datos existen\n",
        "### Que industrias los usan\n",
        "### Que podemos tomar a partir de ellos\n",
        "\n",
        "- Personas:  \n",
        "La huella que se deja en internet on datos generamos por las personas, como gustos, amistades, preferencias.\n",
        "- Transacciones:  \n",
        "patron de transiacciones Monetarias y no monetarias \n",
        " - Monetarias → Uso de tarjetas de crédito, pagos de cuentas, todo lo relacionado con transacciones bancarias.\n",
        " -No financieros → Generalmente son usados por empresas telefónicas, cual almacenan tus llamados, incluso el ciclo de vida de sus clientes.\n",
        "- Navegacion Web:  \n",
        "Las cookies almacenan los meta datos de un usuario, por ejemplo, el país de origen, edad e incluso preferencias.\n",
        "- Machine to machine:  \n",
        "Conexion de maquia a maquina, Permite la comunicación de datos entre dos dispositivos, por ejemplo el GPS o como los servicios de Uber.\n",
        "- Biometricos:  \n",
        "los que te identifican como ser único\n",
        "sistemas de seguridad,  Son los datos que nos identifican como único, el cual almacena huella dactilar, iris, desbloqueo facial.\n",
        "\n",
        "\n"
      ],
      "metadata": {
        "id": "RBgqVj7yTn_L"
      }
    },
    {
      "cell_type": "markdown",
      "source": [
        "## ¿Cómo crear empresas y culturas data-driven?\n",
        "\n",
        "- Crear una cultura de datos\n",
        " - hacer que los empleados creen desciciones basadas en datos, previamente explicando que son los datos\n",
        "\n",
        "- Recoleccionar informacion\n",
        " - ALmacenar toda la informacion \n",
        "\n",
        "- Medir todo\n",
        " - Ya no solo recolectar si nó,  medir comparar los datos\n",
        "\n",
        "- Datos relevantes y precisos\n",
        " - basarnos en datos servibles para cada descicion\n",
        "\n",
        "- Testear y crear Hipotesis\n",
        " - Crear hipotesis especificas, para crear estudios focalizados\n",
        "\n",
        "- Desde los insights de los datos a las acciones\n",
        " - dependiendo de un resultado podemos crear acciones personalizadas, siempre basandose en datos\n",
        "\n",
        "- Cumplir las regulaciones de los datos\n",
        " - no se puedes tomas desciciones sesgadas, la etica de los datos es importante \n",
        "\n",
        "- Automatizar\n",
        " - A¿Haorra tiempo y recursos donde se podria"
      ],
      "metadata": {
        "id": "I1ctHQ2JXRds"
      }
    },
    {
      "cell_type": "markdown",
      "source": [
        ""
      ],
      "metadata": {
        "id": "OV6hrnw0aNzZ"
      }
    },
    {
      "cell_type": "markdown",
      "source": [
        ""
      ],
      "metadata": {
        "id": "McyauqlxXatE"
      }
    }
  ]
}