{
  "cells": [
    {
      "cell_type": "code",
      "execution_count": null,
      "metadata": {
        "id": "3drPHtfdaVg6"
      },
      "outputs": [],
      "source": []
    },
    {
      "cell_type": "markdown",
      "metadata": {
        "id": "hWojMNUOaeT7"
      },
      "source": [
        "Ctrl + l => limpiar consola\n",
        "\n",
        "cd -> change directory\n",
        "cd .. => carpeta anterior\n",
        "cd <nombre carpeta> => Entra a la carpeta <nombre carpeta>\n",
        "\n",
        "ls => lista de elementos en la carpeta actuañ\n",
        "\n",
        "mkdir -> make directory\n",
        "mkdir <nom>bre carpeta> => crea una carpeta llamada <nombre carpeta>\n",
        "\n",
        "touch -> crear archivos\n",
        "touch <nombre archivo con extencion> => crea un archivo\n",
        "touch test.txt => crea el archivo test.txt"
      ]
    },
    {
      "cell_type": "markdown",
      "metadata": {
        "id": "0fRAjiIpd7Nv"
      },
      "source": [
        "mkdir 1-19-2022\n",
        "cd 1-19-2022\n",
        "\n",
        "touch hola.txt\n",
        "touch y.txt adios.txt"
      ]
    },
    {
      "cell_type": "code",
      "execution_count": null,
      "metadata": {},
      "outputs": [],
      "source": []
    }
  ],
  "metadata": {
    "colab": {
      "collapsed_sections": [],
      "name": "Untitled1.ipynb",
      "provenance": []
    },
    "kernelspec": {
      "display_name": "Python 3",
      "name": "python3"
    },
    "language_info": {
      "name": "python"
    }
  },
  "nbformat": 4,
  "nbformat_minor": 0
}
