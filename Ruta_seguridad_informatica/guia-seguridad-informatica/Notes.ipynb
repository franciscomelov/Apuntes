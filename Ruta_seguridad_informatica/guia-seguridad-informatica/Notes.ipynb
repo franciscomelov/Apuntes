{
  "nbformat": 4,
  "nbformat_minor": 0,
  "metadata": {
    "colab": {
      "name": "Untitled2.ipynb",
      "provenance": [],
      "toc_visible": true
    },
    "kernelspec": {
      "name": "python3",
      "display_name": "Python 3"
    },
    "language_info": {
      "name": "python"
    }
  },
  "cells": [
    {
      "cell_type": "markdown",
      "source": [
        "# Guía para Aprender Seguridad Informática"
      ],
      "metadata": {
        "id": "VueBBWwaPRBY"
      }
    },
    {
      "cell_type": "markdown",
      "source": [
        "## ¿Que es ciberseguridad?\n",
        "Todo lo que implica proteger el acceso o uso no autorizado de datos (digitales o electronicos)\n",
        "\n",
        "## Areas y ramas\n",
        "\n",
        "## Roles en la industria\n",
        "\n",
        "## certificaciones que te ayudaran"
      ],
      "metadata": {
        "id": "6_Bu3Q-BORl7"
      }
    },
    {
      "cell_type": "markdown",
      "source": [
        "## Pre-requisitos:\n",
        "\n",
        "*   Redes computacionales\n",
        "    *   Protocolos de red\n",
        "    *   Modelos Osi, TCP/IP\n",
        "*   Desarrollo de software/ Lenguajes de programacion\n",
        "    - Logica\n",
        "\n",
        "*   Sistemas computacionales\n",
        "    *   Sistemas operativos\n",
        "    - Arquitectura de sistemas\n",
        "*   Normativa y legislacion\n",
        "\n",
        "\n",
        "\n",
        "\n",
        "\n",
        "\n",
        "\n",
        "\n",
        "\n"
      ],
      "metadata": {
        "id": "hb_K87Usa43D"
      }
    }
  ]
}