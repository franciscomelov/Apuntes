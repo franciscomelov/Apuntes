{
  "nbformat": 4,
  "nbformat_minor": 0,
  "metadata": {
    "colab": {
      "name": "Untitled2.ipynb",
      "provenance": []
    },
    "kernelspec": {
      "name": "python3",
      "display_name": "Python 3"
    },
    "language_info": {
      "name": "python"
    }
  },
  "cells": [
    {
      "cell_type": "markdown",
      "source": [
        "# Guía para Aprender Seguridad Informática\n",
        "\n",
        "\n",
        "---\n",
        "\n"
      ],
      "metadata": {
        "id": "VueBBWwaPRBY"
      }
    },
    {
      "cell_type": "markdown",
      "source": [
        "### ¿Que es ciberseguridad?\n",
        "Todo lo que implica proteger el acceso o uso no autorizado de datos (digitales o electronicos)\n",
        "\n",
        "### ¿Por qué te interesa aprender seguridad informática? \n",
        "Por el momento despues de haber visto diferentes videos me interesa la forma en que una persona tiene que pensar en diferentes formas para protejer un sistema o para atacar\n",
        "\n"
      ],
      "metadata": {
        "id": "6_Bu3Q-BORl7"
      }
    },
    {
      "cell_type": "markdown",
      "source": [
        "## Pre-requisitos:\n",
        "\n",
        "*   Redes computacionales\n",
        "    *   Protocolos de red\n",
        "    *   Modelos Osi, TCP/IP\n",
        "*   Desarrollo de software/ Lenguajes de programacion\n",
        "    - Logica\n",
        "\n",
        "*   Sistemas computacionales\n",
        "    *   Sistemas operativos\n",
        "    - Arquitectura de sistemas\n",
        "*   Normativa y legislacion\n",
        "\n",
        "\n",
        "\n",
        "\n",
        "\n",
        "\n",
        "\n",
        "\n",
        "\n"
      ],
      "metadata": {
        "id": "hb_K87Usa43D"
      }
    },
    {
      "cell_type": "markdown",
      "source": [
        "# Roles y oportunidades laborales de la ciberseguridad\n",
        "\n",
        "---\n",
        "\n",
        "\n"
      ],
      "metadata": {
        "id": "YtALySzhPq5c"
      }
    },
    {
      "cell_type": "markdown",
      "source": [
        "### Compártenos tu definición de cada una de las ramas de la ciberseguridad con el tamaño de un Tweet cada una.\n",
        "\n",
        "### ¿Hasta este momento qué áreas de ciberseguridad te interesan más?\n"
      ],
      "metadata": {
        "id": "2nRat0GRP3MK"
      }
    },
    {
      "cell_type": "markdown",
      "source": [
        "### Ramas en ciber-seguridad\n",
        "\n",
        "### Seguridad de la informacion (Datos):\n",
        "  - Normativas : Norma ISO 27001\n",
        "\n",
        "  - Proteccion de Datos:\n",
        "    - DLP(Data loss precention)\n",
        "    - Continuidad del negoco: proteger en caso de algun desastre\n",
        "      - ISO22301\n",
        "      - Analisis : \n",
        "        - De impacto : El impacto de ser atacado\n",
        "        - De riesgo : riesgos que se corre como \n",
        "\n",
        "\n",
        "### Codigo seguro:\n",
        "  - Autenticacion : hacer autenticacion segura\n",
        "  - Buenas practicas : al programar\n",
        "  - OWASP for devs(Requisitos de seguridad en aplicaciones)\n",
        "    - Controles de seguridad estandar\n",
        "  - Arquitectura de seguridad en aplicaciones\n",
        "\n",
        "\n",
        "### Seguridad aplicativa:\n",
        "  - Web\n",
        "    - Inyeccion de codigo\n",
        "      - XXS\n",
        "      - SQL y NOSQL\n",
        "      - LDAP\n",
        "    - Autenticacion\n",
        "    - Datos sensibles\n",
        "    - Controles de acceso\n",
        "    - XML & JSON\n",
        "    - CONfiguraciones\n",
        "      - Componentes con vulneravilidades conocidas\n",
        "    - Deserializacion\n",
        "      - Exploits\n",
        "    - Monitoreo y control\n",
        "    - Ingenieria inversa\n",
        "  - Mobile\n",
        "    - Analisis estatico\n",
        "    - Analisis dinamico\n",
        "\n",
        "  - Network\n",
        "    - Arquitecturas seguras\n",
        "      - Proteccion de servidores\n",
        "      - Cifrados\n",
        "      - *this is nor OK REDO\n",
        "  \n",
        "  - Criptografia\n",
        "    - Estenografia/marcas de agua\n",
        "      - Imagenes\n",
        "        - Bitmap\n",
        "        - JPEG\n",
        "        - Desplazamiento por histogramas\n",
        "      - Audio\n",
        "      - Video\n",
        "      - Texto\n",
        "    \n",
        "    - Criptografia \n",
        "      - Algorithims\n",
        "      - dd\n",
        "    \n",
        "    - Maths for cripto\n",
        "      - Algebra\n",
        "      - Calculo\n",
        "\n",
        "### REDES: \n",
        "  - Hardware\n",
        "    - Tecnologia de transmision\n",
        "    - Escala\n",
        "    - Dispositivos\n",
        "    - Arquitecturas\n",
        "  \n",
        "  - Software\n",
        "    - Jerarquia de protocolos\n",
        "      - OSI\n",
        "      - TCP/IP\n",
        "  \n",
        "  - Seguridad de redes\n",
        "\n",
        "### Social engineeriing\n",
        "  - Pishing\n",
        "  - Vishing\n",
        "\n",
        "### ciber-inteligencia\n",
        "  - OSINT\n",
        "\n",
        "### Forensincs\n",
        "  - xxx\n",
        "\n",
        "### Ethics\n",
        "  - Hacktivismo\n",
        "  - Ethical hacking\n",
        "\n",
        "### Scripting\n",
        "  - Bash\n",
        "  - Payloading\n",
        "  - Exploits\n",
        "\n",
        "### Malware\n",
        "  - Analisis de malware\n",
        "    - Malware forensics\n",
        "  - Proteccion de Malware\n",
        "  - IA + Malware"
      ],
      "metadata": {
        "id": "HhKMNNKEQAER"
      }
    },
    {
      "cell_type": "markdown",
      "source": [
        "# Extras\n"
      ],
      "metadata": {
        "id": "t4viC7tFPBfI"
      }
    },
    {
      "cell_type": "markdown",
      "source": [
        "## Areas y ramas\n",
        "\n",
        "## Roles en la industria\n",
        "\n",
        "## certificaciones que te ayudaran"
      ],
      "metadata": {
        "id": "YEp8vWErPLLB"
      }
    }
  ]
}